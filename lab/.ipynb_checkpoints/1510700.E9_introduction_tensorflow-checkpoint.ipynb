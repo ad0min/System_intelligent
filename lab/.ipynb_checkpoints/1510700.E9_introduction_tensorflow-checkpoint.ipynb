{
 "cells": [
  {
   "cell_type": "code",
   "execution_count": 10,
   "metadata": {},
   "outputs": [],
   "source": [
    "sid = '1510700'\n",
    "name =  'Nguyen Thanh Dat'\n",
    "\n",
    "import tensorflow as tf\n",
    "import numpy as np\n",
    "\n",
    "import time\n",
    "# import more libary in here\n",
    "import matplotlib.pyplot as plt"
   ]
  },
  {
   "cell_type": "markdown",
   "metadata": {},
   "source": [
    "# Bài 1\n",
    "Trong bài này, sinh viên sẽ tập làm quen với các thao tác cơ bản trên numpy, tensorflow, so sánh, đánh giá đơn giản về tốc độ tính toán\n",
    "\n",
    "\n",
    "a) Sinh viên viết hàm matrix_gen(m, n) để sinh ra ma trận các số thực trong khoảng [0, 1] ngẫu nhiên, output là python array\n",
    "biểu diễn cho ma trận. Sử dụng hàm để sinh ra hai ma trận và lưu vào hai biến tương ứng đã cho để sử dụng cho các câu\n",
    "tiếp theo."
   ]
  },
  {
   "cell_type": "code",
   "execution_count": 11,
   "metadata": {},
   "outputs": [],
   "source": [
    "# code sinh viên cho câu a\n",
    "def matrix_gen(m, n):\n",
    "    return np.random.rand(m,n)\n",
    "\n",
    "m, n, k=50, 40, 60\n",
    "matrix_mn = matrix_gen(m, n)\n",
    "matrix_nk = matrix_gen(n, k)\n",
    "print(\"Matrix matrix_mn:\")\n",
    "print(matrix_mn)\n",
    "print(\"Matrix matrix_nk:\")\n",
    "print(matrix_nk)\n"
   ]
  },
  {
   "cell_type": "markdown",
   "metadata": {},
   "source": [
    "b) Hãy viết một hàm py_matrix_mul(matrix_1, matrix_2) để nhân hai ma trận được truyền vào trong đó không sử dụng numpy,\n",
    "tensorflow hay các thư viện khác. (giả sử input đã đúng không cần kiểm tra"
   ]
  },
  {
   "cell_type": "code",
   "execution_count": 26,
   "metadata": {},
   "outputs": [
    {
     "name": "stdout",
     "output_type": "stream",
     "text": [
      "time execute:  0.07074880599975586\n",
      "[[  9.94068997  11.32054217  11.1863146  ...,   8.81810865  10.42692504\n",
      "   10.29310025]\n",
      " [ 11.0505489   11.58762984  11.60303959 ...,   9.02675499  10.19711285\n",
      "   10.41250014]\n",
      " [ 11.28143418  11.75198117  11.44366877 ...,   9.38699748  10.8971459\n",
      "   10.07997534]\n",
      " ..., \n",
      " [ 10.5653143   12.84195794  13.42962499 ...,  10.13887001  10.85711661\n",
      "   11.31463352]\n",
      " [  9.87825881  11.48599321  11.37308612 ...,   9.49938126   9.38169928\n",
      "    8.79723877]\n",
      " [  9.12784386  11.41797033  10.3121864  ...,   8.46987358  10.5209616\n",
      "    8.82149497]]\n"
     ]
    }
   ],
   "source": [
    "# code câu b của sinh viên\n",
    "def py_matrix_mul(matrix_1, matrix_2):\n",
    "    m,n = matrix_1.shape\n",
    "    n,k = matrix_2.shape\n",
    "    mx_res = np.empty([m,k])\n",
    "    for i in range(m):\n",
    "        for r in range(k):\n",
    "            res = 0\n",
    "            for j in range(n):\n",
    "                res +=matrix_1[i,j]*matrix_2[j,r]\n",
    "            mx_res[i,r] = res\n",
    "    return mx_res\n",
    "    \n",
    "    \n",
    "start_time = time.time()\n",
    "mt_mul_py = py_matrix_mul(matrix_mn, matrix_nk)\n",
    "print(\"time execute: \",time.time()-start_time)\n",
    "print(mt_mul_py)"
   ]
  },
  {
   "cell_type": "markdown",
   "metadata": {},
   "source": [
    "c) Sử dụng numpy để hiện thực cho bài toán nhân hai ma trận với hai ma trân matrix_mn và matrix_nk, lưu kết quả cuối cùng\n",
    "vào mt_mul_numpy"
   ]
  },
  {
   "cell_type": "code",
   "execution_count": 28,
   "metadata": {},
   "outputs": [
    {
     "name": "stdout",
     "output_type": "stream",
     "text": [
      "time execute:  0.00022268295288085938\n",
      "[[  9.94068997  11.32054217  11.1863146  ...,   8.81810865  10.42692504\n",
      "   10.29310025]\n",
      " [ 11.0505489   11.58762984  11.60303959 ...,   9.02675499  10.19711285\n",
      "   10.41250014]\n",
      " [ 11.28143418  11.75198117  11.44366877 ...,   9.38699748  10.8971459\n",
      "   10.07997534]\n",
      " ..., \n",
      " [ 10.5653143   12.84195794  13.42962499 ...,  10.13887001  10.85711661\n",
      "   11.31463352]\n",
      " [  9.87825881  11.48599321  11.37308612 ...,   9.49938126   9.38169928\n",
      "    8.79723877]\n",
      " [  9.12784386  11.41797033  10.3121864  ...,   8.46987358  10.5209616\n",
      "    8.82149497]]\n"
     ]
    }
   ],
   "source": [
    "# code câu c của sinh viên\n",
    "\n",
    "\n",
    "start_time = time.time()\n",
    "\n",
    "mt_mul_numpy = np.matmul(matrix_mn,matrix_nk)\n",
    "print(\"time execute: \",time.time()-start_time)\n",
    "print(mt_mul_numpy)"
   ]
  },
  {
   "cell_type": "markdown",
   "metadata": {},
   "source": [
    "d) Sử dụng tensorflow để hiện thực cho câu c thay vì dùng numpy\n"
   ]
  },
  {
   "cell_type": "code",
   "execution_count": 31,
   "metadata": {},
   "outputs": [
    {
     "name": "stdout",
     "output_type": "stream",
     "text": [
      "time execute:  0.0010182857513427734\n",
      "[[  9.94068997  11.32054217  11.1863146  ...,   8.81810865  10.42692504\n",
      "   10.29310025]\n",
      " [ 11.0505489   11.58762984  11.60303959 ...,   9.02675499  10.19711285\n",
      "   10.41250014]\n",
      " [ 11.28143418  11.75198117  11.44366877 ...,   9.38699748  10.8971459\n",
      "   10.07997534]\n",
      " ..., \n",
      " [ 10.5653143   12.84195794  13.42962499 ...,  10.13887001  10.85711661\n",
      "   11.31463352]\n",
      " [  9.87825881  11.48599321  11.37308612 ...,   9.49938126   9.38169928\n",
      "    8.79723877]\n",
      " [  9.12784386  11.41797033  10.3121864  ...,   8.46987358  10.5209616\n",
      "    8.82149497]]\n"
     ]
    }
   ],
   "source": [
    "# code câu d của sinh viên\n",
    "\n",
    "\n",
    "with tf.Session():\n",
    "    matrix_tf1 = tf.constant(matrix_mn)\n",
    "    matrix_tf2 =  tf.constant(matrix_nk)\n",
    "    start_time = time.time()\n",
    "    mt_mul_tensorflow = tf.matmul(matrix_tf1,matrix_tf2)\n",
    "    print(\"time execute: \",time.time()-start_time)\n",
    "    \n",
    "    print(mt_mul_tensorflow.eval())"
   ]
  },
  {
   "cell_type": "markdown",
   "metadata": {},
   "source": [
    "e) Với các câu b, c, d, hãy chèn đoạn code để tính thời gian thực thi của mỗi phương pháp và so sánh, đánh giá về mặt thời gian thực thi của các thao tác.\n",
    "\n",
    "Nhận xét của sinh viên: Kết qủa cho thầy kết qủa khi nhân 2 ma trận, thực hiện bằng thư viện numpy cho thời gian thực thi thấp nhất ~ 0,0002. Tiếp đến thư viện tensorflow với 0.001 và cuối cùng là nhân ma trận tự định nghĩa ~ 0.07"
   ]
  },
  {
   "cell_type": "markdown",
   "metadata": {},
   "source": [
    "# Bài 2\n",
    "Cho đoạn code sinh dữ liệu cho hàm f() như bên dưới. Sinh viên hãy chỉnh sửa đoạn code Linear Regression, chọn các tham\n",
    "số phù hợp để ra được kết quả tốt nhất có thể."
   ]
  },
  {
   "cell_type": "code",
   "execution_count": 2,
   "metadata": {
    "scrolled": true
   },
   "outputs": [
    {
     "name": "stdout",
     "output_type": "stream",
     "text": [
      "x [ 0.48405316  0.60583825  0.25010795  0.03335765  0.40148546  0.29706537\n",
      "  0.61507179  0.65000544  0.3748646   0.29364879  0.93208845  0.63293015\n",
      "  0.0959307   0.67849198  0.15964641  0.88710766  0.61290833  0.39972161\n",
      "  0.25634043  0.15833278  0.45294547  0.44878574  0.59038197  0.83459843\n",
      "  0.90679682  0.8217275   0.59830126  0.50901897  0.83683262  0.98865046\n",
      "  0.79828388  0.13257727  0.06550678  0.73303085  0.5657597   0.38786437\n",
      "  0.94073821  0.81298125  0.23847085  0.99863058  0.32548222  0.55251608\n",
      "  0.74557441  0.72194374  0.96925434  0.7375617   0.8331612   0.98358446\n",
      "  0.88835424  0.37157075]\n",
      "y [ 5.34352796  6.11424055  4.12281823  3.12826871  5.00674434  4.41563302\n",
      "  6.14190972  6.17789669  4.93230078  4.49713932  7.5666124   6.42143474\n",
      "  3.69948979  6.35927014  3.70407347  7.30929775  5.94946684  5.02704021\n",
      "  4.33934111  3.69721301  5.25121878  5.37432912  5.78410565  7.21851234\n",
      "  7.70154201  6.99414017  6.0144877   5.62840356  7.13220759  7.80695436\n",
      "  7.02622221  3.70229525  3.27341983  6.67773875  5.84448272  4.89869892\n",
      "  7.66043356  6.89376072  4.21140953  8.14757167  4.61851677  5.71024738\n",
      "  6.7318241   6.69922081  7.66501397  6.90663394  7.33148037  7.94367713\n",
      "  7.31151401  4.97784775]\n"
     ]
    },
    {
     "data": {
      "image/png": "[encoded data removed]",
      "text/plain": [
       "<matplotlib.figure.Figure at 0x7f754984ac50>"
      ]
     },
     "metadata": {},
     "output_type": "display_data"
    }
   ],
   "source": [
    "def f(x):\n",
    "    return x * 5 + 3\n",
    "llen = 50\n",
    "x = np.random.rand(llen)\n",
    "y = f(x) + np.random.normal(0, 0.1, llen)\n",
    "print('x', x)\n",
    "print('y', y)\n",
    "train_X = x\n",
    "train_Y = y\n",
    "n_samples = train_X.shape[0]\n",
    "plt.plot(train_X,train_Y,'ro',label= 'original data')\n",
    "plt.show()"
   ]
  },
  {
   "cell_type": "code",
   "execution_count": 9,
   "metadata": {},
   "outputs": [
    {
     "name": "stdout",
     "output_type": "stream",
     "text": [
      "Epoch: 0005 cost= 0.236666620 W= 2.59958 b= 4.55211\n",
      "Epoch: 0010 cost= 0.136419415 W= 3.19337 b= 4.17457\n",
      "Epoch: 0015 cost= 0.079437271 W= 3.63716 b= 3.88706\n",
      "Epoch: 0020 cost= 0.047274884 W= 3.9705 b= 3.67109\n",
      "Epoch: 0025 cost= 0.029119430 W= 4.22088 b= 3.50887\n",
      "Epoch: 0030 cost= 0.018869050 W= 4.40896 b= 3.38702\n",
      "Epoch: 0035 cost= 0.013080443 W= 4.55023 b= 3.2955\n",
      "Epoch: 0040 cost= 0.009810588 W= 4.65634 b= 3.22675\n",
      "Epoch: 0045 cost= 0.007962720 W= 4.73604 b= 3.17511\n",
      "Epoch: 0050 cost= 0.006917930 W= 4.79591 b= 3.13632\n",
      "Epoch: 0055 cost= 0.006326773 W= 4.84088 b= 3.10718\n",
      "Epoch: 0060 cost= 0.005992020 W= 4.87466 b= 3.0853\n",
      "Epoch: 0065 cost= 0.005802201 W= 4.90003 b= 3.06886\n",
      "Epoch: 0070 cost= 0.005694385 W= 4.91909 b= 3.05652\n",
      "Epoch: 0075 cost= 0.005633024 W= 4.93341 b= 3.04724\n",
      "Epoch: 0080 cost= 0.005598010 W= 4.94416 b= 3.04027\n",
      "Epoch: 0085 cost= 0.005577961 W= 4.95223 b= 3.03504\n",
      "Epoch: 0090 cost= 0.005566414 W= 4.9583 b= 3.03111\n",
      "Epoch: 0095 cost= 0.005559735 W= 4.96286 b= 3.02816\n",
      "Epoch: 0100 cost= 0.005555836 W= 4.96628 b= 3.02594\n",
      "Optimization Finished!\n",
      "Training cost= 0.00555584 W= 4.96628 b= 3.02594 \n",
      "\n"
     ]
    },
    {
     "data": {
      "image/png": "[encoded data removed]",
      "text/plain": [
       "<matplotlib.figure.Figure at 0x7f753d052940>"
      ]
     },
     "metadata": {},
     "output_type": "display_data"
    }
   ],
   "source": [
    "# Parameters\n",
    "learning_rate = 1\n",
    "training_epochs = 100\n",
    "display_step = 5\n",
    "\n",
    "# tf Graph Input\n",
    "X = tf.placeholder(\"float\")\n",
    "Y = tf.placeholder(\"float\")\n",
    "# Set model weights\n",
    "W = tf.Variable(np.random.randn(), name=\"weight\")\n",
    "b = tf.Variable(np.random.randn(), name=\"bias\")\n",
    "# Construct a linear model\n",
    "pred = tf.add(tf.multiply(X, W), b)\n",
    "# Mean squared error\n",
    "cost = tf.reduce_sum(tf.pow(pred-Y, 2))/(2*n_samples)\n",
    "# Gradient descent\n",
    "optimizer = tf.train.GradientDescentOptimizer(learning_rate).minimize(cost)\n",
    "# Initialize the variables (i.e. assign their default value)\n",
    "init = tf.global_variables_initializer()\n",
    "\n",
    "# Start training\n",
    "with tf.Session() as sess:\n",
    "    sess.run(init)\n",
    "    # Fit all training data\n",
    "    for epoch in range(training_epochs):\n",
    "        for (x, y) in zip(train_X, train_Y):\n",
    "            sess.run(optimizer, feed_dict={X: x, Y: y})\n",
    "        #Display logs per epoch step\n",
    "        if (epoch+1) % display_step == 0:\n",
    "            c = sess.run(cost, feed_dict={X: train_X, Y:train_Y})\n",
    "            print (\"Epoch:\", '%04d' % (epoch+1), \"cost=\", \"{:.9f}\".format(c),\"W=\", sess.run(W), \"b=\", sess.run(b))\n",
    "    print (\"Optimization Finished!\")\n",
    "    training_cost = sess.run(cost, feed_dict={X: train_X, Y: train_Y})\n",
    "    \n",
    "    print (\"Training cost=\", training_cost, \"W=\", sess.run(W), \"b=\", sess.run(b),'\\n')\n",
    "    plt.plot(train_X, train_Y, 'ro', label='Original data')\n",
    "    plt.plot(train_X, sess.run(W) * train_X + sess.run(b), label='Fitted line')\n",
    "    plt.show()"
   ]
  },
  {
   "cell_type": "code",
   "execution_count": null,
   "metadata": {
    "collapsed": true
   },
   "outputs": [],
   "source": []
  }
 ],
 "metadata": {
  "kernelspec": {
   "display_name": "Python 3",
   "language": "python",
   "name": "python3"
  },
  "language_info": {
   "codemirror_mode": {
    "name": "ipython",
    "version": 3
   },
   "file_extension": ".py",
   "mimetype": "text/x-python",
   "name": "python",
   "nbconvert_exporter": "python",
   "pygments_lexer": "ipython3",
   "version": "3.6.3"
  }
 },
 "nbformat": 4,
 "nbformat_minor": 2
}
