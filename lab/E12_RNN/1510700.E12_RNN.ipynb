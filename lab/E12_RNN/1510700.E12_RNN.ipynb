{
 "cells": [
  {
   "cell_type": "code",
   "execution_count": 2,
   "metadata": {},
   "outputs": [
    {
     "name": "stderr",
     "output_type": "stream",
     "text": [
      "/home/dath/anaconda3/lib/python3.6/importlib/_bootstrap.py:219: RuntimeWarning: compiletime version 3.5 of module 'tensorflow.python.framework.fast_tensor_util' does not match runtime version 3.6\n",
      "  return f(*args, **kwds)\n"
     ]
    }
   ],
   "source": [
    "sid = '1510700'\n",
    "name = 'Nguyen Thanh Dat'\n",
    "\n",
    "import tensorflow as tf\n",
    "import numpy as np\n",
    "\n",
    "# sinh viên import các thư viện cần thiết ở đây"
   ]
  },
  {
   "cell_type": "code",
   "execution_count": 3,
   "metadata": {},
   "outputs": [
    {
     "name": "stdout",
     "output_type": "stream",
     "text": [
      "version tf\n"
     ]
    },
    {
     "data": {
      "text/plain": [
       "'1.4.0'"
      ]
     },
     "execution_count": 3,
     "metadata": {},
     "output_type": "execute_result"
    }
   ],
   "source": [
    "print(\"version tf\")\n",
    "tf.__version__"
   ]
  },
  {
   "cell_type": "code",
   "execution_count": 4,
   "metadata": {
    "collapsed": true
   },
   "outputs": [],
   "source": [
    "from __future__ import print_function\n",
    "import numpy as np\n",
    "import tensorflow as tf\n",
    "from tensorflow.contrib import rnn"
   ]
  },
  {
   "cell_type": "code",
   "execution_count": 5,
   "metadata": {},
   "outputs": [
    {
     "name": "stdout",
     "output_type": "stream",
     "text": [
      "Successfully downloaded train-images-idx3-ubyte.gz 9912422 bytes.\n",
      "Extracting /tmp/data/train-images-idx3-ubyte.gz\n",
      "Successfully downloaded train-labels-idx1-ubyte.gz 28881 bytes.\n",
      "Extracting /tmp/data/train-labels-idx1-ubyte.gz\n",
      "Successfully downloaded t10k-images-idx3-ubyte.gz 1648877 bytes.\n",
      "Extracting /tmp/data/t10k-images-idx3-ubyte.gz\n",
      "Successfully downloaded t10k-labels-idx1-ubyte.gz 4542 bytes.\n",
      "Extracting /tmp/data/t10k-labels-idx1-ubyte.gz\n"
     ]
    }
   ],
   "source": [
    "# Import MNIST data\n",
    "from tensorflow.examples.tutorials.mnist import input_data\n",
    "mnist = input_data.read_data_sets(\"/tmp/data/\", one_hot=True)\n"
   ]
  },
  {
   "cell_type": "code",
   "execution_count": 8,
   "metadata": {
    "collapsed": true
   },
   "outputs": [],
   "source": [
    "# Training Parameters\n",
    "learning_rate = 0.001\n",
    "training_steps = 10000\n",
    "batch_size = 128\n",
    "display_step = 200\n",
    "\n",
    "# Network Parameters\n",
    "num_input = 28 # MNIST data input (img shape: 28*28)\n",
    "timesteps = 28 # timesteps\n",
    "num_hidden = 128 # hidden layer num of features\n",
    "num_classes = 10 # MNIST total classes (0-9 digits)"
   ]
  },
  {
   "cell_type": "code",
   "execution_count": 9,
   "metadata": {},
   "outputs": [],
   "source": [
    "# tf Graph input\n",
    "X = tf.placeholder(\"float\", [None, timesteps, num_input])\n",
    "Y = tf.placeholder(\"float\", [None, num_classes])\n",
    "\n",
    "# Define weights\n",
    "weights = {\n",
    "    'out': tf.Variable(tf.random_normal([num_hidden, num_classes]))\n",
    "}\n",
    "biases = {\n",
    "    'out': tf.Variable(tf.random_normal([num_classes]))\n",
    "}"
   ]
  },
  {
   "cell_type": "code",
   "execution_count": 10,
   "metadata": {
    "collapsed": true
   },
   "outputs": [],
   "source": [
    "\n",
    "def RNN(x, weights, biases):\n",
    "\n",
    "    # Prepare data shape to match `rnn` function requirements\n",
    "    # Current data input shape: (batch_size, timesteps, n_input)\n",
    "    # Required shape: 'timesteps' tensors list of shape (batch_size, n_input)\n",
    "\n",
    "    # Unstack to get a list of 'timesteps' tensors of shape (batch_size, n_input)\n",
    "    x = tf.unstack(x, timesteps, 1)\n",
    "\n",
    "    # Define a lstm cell with tensorflow\n",
    "    lstm_cell = rnn.BasicLSTMCell(num_hidden, forget_bias=1.0)\n",
    "\n",
    "    # Get lstm cell output\n",
    "    outputs, states = rnn.static_rnn(lstm_cell, x, dtype=tf.float32)\n",
    "\n",
    "    # Linear activation, using rnn inner loop last output\n",
    "    return tf.matmul(outputs[-1], weights['out']) + biases['out']\n"
   ]
  },
  {
   "cell_type": "code",
   "execution_count": 11,
   "metadata": {},
   "outputs": [
    {
     "name": "stdout",
     "output_type": "stream",
     "text": [
      "Step 1, Minibatch Loss= 2.4256, Training Accuracy= 0.172\n",
      "Step 200, Minibatch Loss= 2.0826, Training Accuracy= 0.273\n",
      "Step 400, Minibatch Loss= 1.9322, Training Accuracy= 0.422\n",
      "Step 600, Minibatch Loss= 1.7577, Training Accuracy= 0.375\n",
      "Step 800, Minibatch Loss= 1.5562, Training Accuracy= 0.617\n",
      "Step 1000, Minibatch Loss= 1.6115, Training Accuracy= 0.469\n",
      "Step 1200, Minibatch Loss= 1.3739, Training Accuracy= 0.609\n",
      "Step 1400, Minibatch Loss= 1.3769, Training Accuracy= 0.609\n",
      "Step 1600, Minibatch Loss= 1.2680, Training Accuracy= 0.609\n",
      "Step 1800, Minibatch Loss= 1.5250, Training Accuracy= 0.461\n",
      "Step 2000, Minibatch Loss= 1.2150, Training Accuracy= 0.602\n",
      "Step 2200, Minibatch Loss= 1.2491, Training Accuracy= 0.625\n",
      "Step 2400, Minibatch Loss= 1.1099, Training Accuracy= 0.617\n",
      "Step 2600, Minibatch Loss= 1.1588, Training Accuracy= 0.656\n",
      "Step 2800, Minibatch Loss= 1.1644, Training Accuracy= 0.641\n",
      "Step 3000, Minibatch Loss= 0.9866, Training Accuracy= 0.688\n",
      "Step 3200, Minibatch Loss= 1.0247, Training Accuracy= 0.625\n",
      "Step 3400, Minibatch Loss= 1.0441, Training Accuracy= 0.656\n",
      "Step 3600, Minibatch Loss= 0.9035, Training Accuracy= 0.703\n",
      "Step 3800, Minibatch Loss= 0.8950, Training Accuracy= 0.742\n",
      "Step 4000, Minibatch Loss= 0.8149, Training Accuracy= 0.742\n",
      "Step 4200, Minibatch Loss= 0.8892, Training Accuracy= 0.672\n",
      "Step 4400, Minibatch Loss= 0.7966, Training Accuracy= 0.703\n",
      "Step 4600, Minibatch Loss= 0.9241, Training Accuracy= 0.688\n",
      "Step 4800, Minibatch Loss= 0.7417, Training Accuracy= 0.773\n",
      "Step 5000, Minibatch Loss= 0.9056, Training Accuracy= 0.719\n",
      "Step 5200, Minibatch Loss= 0.7300, Training Accuracy= 0.766\n",
      "Step 5400, Minibatch Loss= 0.8461, Training Accuracy= 0.750\n",
      "Step 5600, Minibatch Loss= 0.7328, Training Accuracy= 0.789\n",
      "Step 5800, Minibatch Loss= 0.8506, Training Accuracy= 0.758\n",
      "Step 6000, Minibatch Loss= 0.7744, Training Accuracy= 0.703\n",
      "Step 6200, Minibatch Loss= 0.6690, Training Accuracy= 0.859\n",
      "Step 6400, Minibatch Loss= 0.7118, Training Accuracy= 0.766\n",
      "Step 6600, Minibatch Loss= 0.5895, Training Accuracy= 0.805\n",
      "Step 6800, Minibatch Loss= 0.4692, Training Accuracy= 0.867\n",
      "Step 7000, Minibatch Loss= 0.6125, Training Accuracy= 0.820\n",
      "Step 7200, Minibatch Loss= 0.4508, Training Accuracy= 0.875\n",
      "Step 7400, Minibatch Loss= 0.5467, Training Accuracy= 0.820\n",
      "Step 7600, Minibatch Loss= 0.6886, Training Accuracy= 0.836\n",
      "Step 7800, Minibatch Loss= 0.6091, Training Accuracy= 0.812\n",
      "Step 8000, Minibatch Loss= 0.5482, Training Accuracy= 0.820\n",
      "Step 8200, Minibatch Loss= 0.5356, Training Accuracy= 0.828\n",
      "Step 8400, Minibatch Loss= 0.5270, Training Accuracy= 0.828\n",
      "Step 8600, Minibatch Loss= 0.7055, Training Accuracy= 0.766\n",
      "Step 8800, Minibatch Loss= 0.5264, Training Accuracy= 0.812\n",
      "Step 9000, Minibatch Loss= 0.4924, Training Accuracy= 0.820\n",
      "Step 9200, Minibatch Loss= 0.5461, Training Accuracy= 0.844\n",
      "Step 9400, Minibatch Loss= 0.6551, Training Accuracy= 0.797\n",
      "Step 9600, Minibatch Loss= 0.4214, Training Accuracy= 0.859\n",
      "Step 9800, Minibatch Loss= 0.4865, Training Accuracy= 0.844\n",
      "Step 10000, Minibatch Loss= 0.4568, Training Accuracy= 0.844\n",
      "Optimization Finished!\n",
      "Testing Accuracy: 0.851562\n"
     ]
    }
   ],
   "source": [
    "\n",
    "logits = RNN(X, weights, biases)\n",
    "prediction = tf.nn.softmax(logits)\n",
    "\n",
    "# Define loss and optimizer\n",
    "loss_op = tf.reduce_mean(tf.nn.softmax_cross_entropy_with_logits(\n",
    "    logits=logits, labels=Y))\n",
    "optimizer = tf.train.GradientDescentOptimizer(learning_rate=learning_rate)\n",
    "train_op = optimizer.minimize(loss_op)\n",
    "\n",
    "# Evaluate model (with test logits, for dropout to be disabled)\n",
    "correct_pred = tf.equal(tf.argmax(prediction, 1), tf.argmax(Y, 1))\n",
    "accuracy = tf.reduce_mean(tf.cast(correct_pred, tf.float32))\n",
    "\n",
    "# Initialize the variables (i.e. assign their default value)\n",
    "init = tf.global_variables_initializer()\n",
    "\n",
    "# Start training\n",
    "with tf.Session() as sess:\n",
    "\n",
    "    # Run the initializer\n",
    "    sess.run(init)\n",
    "\n",
    "    for step in range(1, training_steps+1):\n",
    "        batch_x, batch_y = mnist.train.next_batch(batch_size)\n",
    "        # Reshape data to get 28 seq of 28 elements\n",
    "        batch_x = batch_x.reshape((batch_size, timesteps, num_input))\n",
    "        # Run optimization op (backprop)\n",
    "        sess.run(train_op, feed_dict={X: batch_x, Y: batch_y})\n",
    "        if step % display_step == 0 or step == 1:\n",
    "            # Calculate batch loss and accuracy\n",
    "            loss, acc = sess.run([loss_op, accuracy], feed_dict={X: batch_x,\n",
    "                                                                 Y: batch_y})\n",
    "            print(\"Step \" + str(step) + \", Minibatch Loss= \" + \\\n",
    "                  \"{:.4f}\".format(loss) + \", Training Accuracy= \" + \\\n",
    "                  \"{:.3f}\".format(acc))\n",
    "\n",
    "    print(\"Optimization Finished!\")\n",
    "\n",
    "    # Calculate accuracy for 128 mnist test images\n",
    "    test_len = 128\n",
    "    test_data = mnist.test.images[:test_len].reshape((-1, timesteps, num_input))\n",
    "    test_label = mnist.test.labels[:test_len]\n",
    "    print(\"Testing Accuracy:\", \\\n",
    "sess.run(accuracy, feed_dict={X: test_data, Y: test_label}))"
   ]
  },
  {
   "cell_type": "code",
   "execution_count": null,
   "metadata": {
    "collapsed": true
   },
   "outputs": [],
   "source": []
  }
 ],
 "metadata": {
  "kernelspec": {
   "display_name": "Python 3",
   "language": "python",
   "name": "python3"
  },
  "language_info": {
   "codemirror_mode": {
    "name": "ipython",
    "version": 3
   },
   "file_extension": ".py",
   "mimetype": "text/x-python",
   "name": "python",
   "nbconvert_exporter": "python",
   "pygments_lexer": "ipython3",
   "version": "3.6.3"
  }
 },
 "nbformat": 4,
 "nbformat_minor": 2
}
