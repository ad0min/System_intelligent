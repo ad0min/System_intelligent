{
 "cells": [
  {
   "cell_type": "markdown",
   "metadata": {},
   "source": [
    "# Lab 5 - Support Vector Machine"
   ]
  },
  {
   "cell_type": "markdown",
   "metadata": {},
   "source": [
    "* Hãy sử dụng class `LinearSVC` của bộ thư viện `scikit` để predict cho bộ dữ liệu Iris và MNIST. So sánh kết quả thu được với các giải thuật đã học."
   ]
  },
  {
   "cell_type": "markdown",
   "metadata": {},
   "source": [
    "* Giả sử dữ liệu mẫu được phân bố không theo tuyến tính (nonlinear) như trong hình sau.\n",
    "\n",
    "![Alt text](svm-nonlinear.png)\n",
    "\n",
    "Với hai class là tương ứng với ký hiệu hình vuông và hình tam giác\n",
    "    \n",
    "Bạn có thể sử dụng SVM để phân loại được không? Vì sao?"
   ]
  },
  {
   "cell_type": "markdown",
   "metadata": {},
   "source": [
    "* Tại sao việc scale dữ liệu vào lại quan trọng khi áp dụng SVM?\n"
   ]
  },
  {
   "cell_type": "code",
   "execution_count": null,
   "metadata": {},
   "outputs": [],
   "source": []
  }
 ],
 "metadata": {
  "kernelspec": {
   "display_name": "Python 3",
   "language": "python",
   "name": "python3"
  },
  "language_info": {
   "codemirror_mode": {
    "name": "ipython",
    "version": 3
   },
   "file_extension": ".py",
   "mimetype": "text/x-python",
   "name": "python",
   "nbconvert_exporter": "python",
   "pygments_lexer": "ipython3",
   "version": "3.6.3"
  }
 },
 "nbformat": 4,
 "nbformat_minor": 2
}
