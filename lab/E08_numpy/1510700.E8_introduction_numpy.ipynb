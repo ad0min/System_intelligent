{
 "cells": [
  {
   "cell_type": "code",
   "execution_count": 1,
   "metadata": {
    "collapsed": true
   },
   "outputs": [],
   "source": [
    "sid = '1510700'\n",
    "name = 'Nguyen Thanh Dat'"
   ]
  },
  {
   "cell_type": "code",
   "execution_count": 2,
   "metadata": {},
   "outputs": [
    {
     "name": "stdout",
     "output_type": "stream",
     "text": [
      "The shape of array: (4177,)\n"
     ]
    }
   ],
   "source": [
    "# Bai 1-1\n",
    "# load abalone.data \n",
    "\n",
    "import numpy as np\n",
    "\n",
    "typ =np.dtype({'names':('sex','length','diameter','height','whole weight','shucked weight','viscera weight','shell weight','rings'),'formats' :('S1','f4','f4','f4','f4','f4','f4','f4','i4')})\n",
    "\n",
    "x = np.loadtxt('abalone.data',typ,delimiter = ',')\n",
    "\n",
    "print(\"The shape of array:\",x.shape)"
   ]
  },
  {
   "cell_type": "code",
   "execution_count": 3,
   "metadata": {},
   "outputs": [
    {
     "name": "stdout",
     "output_type": "stream",
     "text": [
      "Number of type sex:  {b'F': 1307, b'I': 1342, b'M': 1528}\n"
     ]
    }
   ],
   "source": [
    "# Bai 1-2\n",
    "# De xuat va xu ly truong nominal ( truong sex\n",
    "\n",
    "sex = x['sex']\n",
    "\n",
    "unique, counts = np.unique(sex, return_counts = True)\n",
    "\n",
    "print(\"Number of type sex: \",dict(zip(unique,counts)))"
   ]
  },
  {
   "cell_type": "code",
   "execution_count": 4,
   "metadata": {},
   "outputs": [
    {
     "data": {
      "text/plain": [
       "{'X': (b'M',  0.45500001,  0.36500001,  0.095,  0.514,  0.2245,  0.101,  0.15000001, 15),\n",
       " 't': 15}"
      ]
     },
     "execution_count": 4,
     "metadata": {},
     "output_type": "execute_result"
    }
   ],
   "source": [
    "# Bai 1-3\n",
    "# viet ham de voi moi dong du lieu tra ve dang {'X':np.array, 't':np.int32} phu hop vs bai toan\n",
    "\n",
    "def get_data():\n",
    "    for tmp in x:\n",
    "        yield {'X':tmp,'t':tmp['rings']}\n",
    "res = get_data()\n",
    "res.__next__()"
   ]
  },
  {
   "cell_type": "code",
   "execution_count": 5,
   "metadata": {},
   "outputs": [
    {
     "data": {
      "text/plain": [
       "{'X': array([ (b'M',  0.45500001,  0.36500001,  0.095     ,  0.514     ,  0.2245    ,  0.101     ,  0.15000001, 15),\n",
       "        (b'M',  0.34999999,  0.26499999,  0.09      ,  0.2255    ,  0.0995    ,  0.0485    ,  0.07      ,  7),\n",
       "        (b'F',  0.52999997,  0.41999999,  0.13500001,  0.67699999,  0.25650001,  0.1415    ,  0.20999999,  9),\n",
       "        (b'M',  0.44      ,  0.36500001,  0.125     ,  0.51599997,  0.2155    ,  0.114     ,  0.155     , 10),\n",
       "        (b'I',  0.33000001,  0.255     ,  0.08      ,  0.205     ,  0.0895    ,  0.0395    ,  0.055     ,  7),\n",
       "        (b'I',  0.42500001,  0.30000001,  0.095     ,  0.3515    ,  0.141     ,  0.0775    ,  0.12      ,  8),\n",
       "        (b'F',  0.52999997,  0.41499999,  0.15000001,  0.77749997,  0.237     ,  0.1415    ,  0.33000001, 20),\n",
       "        (b'F',  0.54500002,  0.42500001,  0.125     ,  0.76800001,  0.294     ,  0.1495    ,  0.25999999, 16),\n",
       "        (b'M',  0.47499999,  0.37      ,  0.125     ,  0.50950003,  0.2165    ,  0.1125    ,  0.16500001,  9),\n",
       "        (b'F',  0.55000001,  0.44      ,  0.15000001,  0.89450002,  0.3145    ,  0.15099999,  0.31999999, 19),\n",
       "        (b'F',  0.52499998,  0.38      ,  0.14      ,  0.60650003,  0.19400001,  0.14749999,  0.20999999, 14),\n",
       "        (b'M',  0.43000001,  0.34999999,  0.11      ,  0.40599999,  0.1675    ,  0.081     ,  0.13500001, 10),\n",
       "        (b'M',  0.49000001,  0.38      ,  0.13500001,  0.54149997,  0.2175    ,  0.095     ,  0.19      , 11),\n",
       "        (b'F',  0.53500003,  0.405     ,  0.145     ,  0.68449998,  0.27250001,  0.171     ,  0.205     , 10),\n",
       "        (b'F',  0.47      ,  0.35499999,  0.1       ,  0.47549999,  0.1675    ,  0.0805    ,  0.185     , 10),\n",
       "        (b'M',  0.5       ,  0.40000001,  0.13      ,  0.6645    ,  0.25799999,  0.133     ,  0.23999999, 12)],\n",
       "       dtype=[('sex', 'S1'), ('length', '<f4'), ('diameter', '<f4'), ('height', '<f4'), ('whole weight', '<f4'), ('shucked weight', '<f4'), ('viscera weight', '<f4'), ('shell weight', '<f4'), ('rings', '<i4')]),\n",
       " 't': array([15,  7,  9, 10,  7,  8, 20, 16,  9, 19, 14, 10, 11, 10, 10, 12], dtype=int32)}"
      ]
     },
     "execution_count": 5,
     "metadata": {},
     "output_type": "execute_result"
    }
   ],
   "source": [
    "# Bai 1-4\n",
    "# Viết hàm get_batch(batch_size=16) sử dụng hàm ở 3 để trả về mỗi lần một \"batch\" với kích thước batch_size. Dạng của\n",
    "#output {'X': np.array, 't': np.array}, với shape tương ứng là (batch_size, ?) và (batch_size,) (yêu cầu hàm lazy evaluation)\n",
    "\n",
    "def get_batch(size = 16):\n",
    "    num = 0\n",
    "    while num < x.size:\n",
    "        yield {'X':x[num:num+size], 't':x['rings'][num:num+size]}\n",
    "    \n",
    "res = get_batch()\n",
    "res.__next__()"
   ]
  },
  {
   "cell_type": "code",
   "execution_count": null,
   "metadata": {
    "collapsed": true
   },
   "outputs": [],
   "source": []
  }
 ],
 "metadata": {
  "kernelspec": {
   "display_name": "Python 3",
   "language": "python",
   "name": "python3"
  },
  "language_info": {
   "codemirror_mode": {
    "name": "ipython",
    "version": 3
   },
   "file_extension": ".py",
   "mimetype": "text/x-python",
   "name": "python",
   "nbconvert_exporter": "python",
   "pygments_lexer": "ipython3",
   "version": "3.6.3"
  }
 },
 "nbformat": 4,
 "nbformat_minor": 2
}
