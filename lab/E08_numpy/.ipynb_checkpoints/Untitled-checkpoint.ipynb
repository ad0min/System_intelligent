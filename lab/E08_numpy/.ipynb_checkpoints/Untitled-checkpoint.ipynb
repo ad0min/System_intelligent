{
 "cells": [
  {
   "cell_type": "code",
   "execution_count": null,
   "metadata": {
    "collapsed": true
   },
   "outputs": [],
   "source": [
    "sid = '1510700'\n",
    "name = 'Nguyen Thanh Dat'"
   ]
  },
  {
   "cell_type": "code",
   "execution_count": null,
   "metadata": {
    "collapsed": true
   },
   "outputs": [],
   "source": [
    "# Bai 1-1\n",
    "\n",
    "typ =np.dtype({'names':('sex','length','diameter','height','whole weight','shucked weight','viscera weight','shell weight','rings'),\n",
    "               'formats' :('S1','f4','f4','f4','f4','f4','f4','f4','i4')})\n",
    "\n",
    "\n",
    "x = np.loadtxt('abalone.data',typ)"
   ]
  }
 ],
 "metadata": {
  "kernelspec": {
   "display_name": "Python 3",
   "language": "python",
   "name": "python3"
  },
  "language_info": {
   "codemirror_mode": {
    "name": "ipython",
    "version": 3
   },
   "file_extension": ".py",
   "mimetype": "text/x-python",
   "name": "python",
   "nbconvert_exporter": "python",
   "pygments_lexer": "ipython3",
   "version": "3.6.3"
  }
 },
 "nbformat": 4,
 "nbformat_minor": 2
}
