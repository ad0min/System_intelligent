{
 "cells": [
  {
   "cell_type": "code",
   "execution_count": 2,
   "metadata": {},
   "outputs": [
    {
     "name": "stderr",
     "output_type": "stream",
     "text": [
      "/home/dath/anaconda3/lib/python3.6/importlib/_bootstrap.py:219: RuntimeWarning: compiletime version 3.5 of module 'tensorflow.python.framework.fast_tensor_util' does not match runtime version 3.6\n",
      "  return f(*args, **kwds)\n"
     ]
    }
   ],
   "source": [
    "import tensorflow as tf\n",
    "import numpy\n",
    "import matplotlib.pyplot as  plt\n",
    "rng = numpy.random"
   ]
  },
  {
   "cell_type": "code",
   "execution_count": 3,
   "metadata": {
    "collapsed": true
   },
   "outputs": [],
   "source": [
    "learning_rate = 0.01\n",
    "training_epochs = 1000\n",
    "display_step = 50\n"
   ]
  },
  {
   "cell_type": "code",
   "execution_count": 4,
   "metadata": {
    "collapsed": true
   },
   "outputs": [],
   "source": [
    "# Training Data\n",
    "train_X = numpy.asarray([3.3,4.4,5.5,6.71,6.93,4.168,9.779,6.182,7.59,2.167,\n",
    "7.042,10.791,5.313,7.997,5.654,9.27,3.1])\n",
    "train_Y = numpy.asarray([1.7,2.76,2.09,3.19,1.694,1.573,3.366,2.596,2.53,1.221,\n",
    "2.827,3.465,1.65,2.904,2.42,2.94,1.3])\n",
    "n_samples = train_X.shape[0]"
   ]
  },
  {
   "cell_type": "code",
   "execution_count": 5,
   "metadata": {
    "collapsed": true
   },
   "outputs": [],
   "source": [
    "X = tf.placeholder(\"float\")\n",
    "Y = tf.placeholder(\"float\")\n",
    "W = tf.Variable(rng.rand(),name= \"weight\")\n",
    "b = tf.Variable(rng.randn(),name = \"bias\")\n"
   ]
  },
  {
   "cell_type": "code",
   "execution_count": 6,
   "metadata": {
    "collapsed": true
   },
   "outputs": [],
   "source": [
    "pred = tf.add(tf.multiply(X,W),b)\n"
   ]
  },
  {
   "cell_type": "code",
   "execution_count": 7,
   "metadata": {
    "collapsed": true
   },
   "outputs": [],
   "source": [
    "cost = tf.reduce_sum(tf.pow(pred-Y,2))/(2*n_samples)\n",
    "optimizer = tf.train.GradientDescentOptimizer(learning_rate).minimize(cost)\n"
   ]
  },
  {
   "cell_type": "code",
   "execution_count": 8,
   "metadata": {
    "collapsed": true
   },
   "outputs": [],
   "source": [
    "init = tf.global_variables_initializer()"
   ]
  },
  {
   "cell_type": "code",
   "execution_count": 10,
   "metadata": {},
   "outputs": [
    {
     "name": "stdout",
     "output_type": "stream",
     "text": [
      "Epoch: 0050 cost= 0.316444397 W= 0.523102 b= -1.16613\n",
      "Epoch: 0100 cost= 0.288786203 W= 0.506835 b= -1.04911\n",
      "Epoch: 0150 cost= 0.264321089 W= 0.491536 b= -0.93905\n",
      "Epoch: 0200 cost= 0.242680714 W= 0.477147 b= -0.835534\n",
      "Epoch: 0250 cost= 0.223539218 W= 0.463613 b= -0.738174\n",
      "Epoch: 0300 cost= 0.206607893 W= 0.450884 b= -0.646605\n",
      "Epoch: 0350 cost= 0.191631585 W= 0.438913 b= -0.56048\n",
      "Epoch: 0400 cost= 0.178384885 W= 0.427653 b= -0.479479\n",
      "Epoch: 0450 cost= 0.166667938 W= 0.417063 b= -0.403296\n",
      "Epoch: 0500 cost= 0.156304166 W= 0.407103 b= -0.331643\n",
      "Epoch: 0550 cost= 0.147137284 W= 0.397735 b= -0.264252\n",
      "Epoch: 0600 cost= 0.139029145 W= 0.388924 b= -0.200868\n",
      "Epoch: 0650 cost= 0.131857529 W= 0.380638 b= -0.141255\n",
      "Epoch: 0700 cost= 0.125514299 W= 0.372844 b= -0.0851868\n",
      "Epoch: 0750 cost= 0.119903833 W= 0.365514 b= -0.0324535\n",
      "Epoch: 0800 cost= 0.114941455 W= 0.358619 b= 0.0171438\n",
      "Epoch: 0850 cost= 0.110552378 W= 0.352135 b= 0.0637912\n",
      "Epoch: 0900 cost= 0.106670402 W= 0.346036 b= 0.107664\n",
      "Epoch: 0950 cost= 0.103236929 W= 0.3403 b= 0.148928\n",
      "Epoch: 1000 cost= 0.100200236 W= 0.334906 b= 0.187738\n",
      "Optimization Finished\n",
      "Training cost =  0.1002 W = 0.334906 b= 0.187738 \n",
      "\n"
     ]
    },
    {
     "data": {
      "image/png": "[encoded data removed]",
      "text/plain": [
       "<matplotlib.figure.Figure at 0x7fd8b479acc0>"
      ]
     },
     "metadata": {},
     "output_type": "display_data"
    }
   ],
   "source": [
    "with tf.Session() as sess:\n",
    "    sess.run(init)\n",
    "    for epoch in  range(training_epochs):\n",
    "        for (x,y) in  zip(train_X,train_Y):\n",
    "            sess.run(optimizer,feed_dict= {X:x,Y:y})\n",
    "        if (epoch + 1) % display_step ==0:\n",
    "            c = sess.run(cost,feed_dict = {X:train_X, Y:train_Y})\n",
    "            print(\"Epoch:\",'%04d'%(epoch+1),\"cost=\", \"{:.9f}\".format(c),\"W=\",sess.run(W),\"b=\",sess.run(b))\n",
    "    print(\"Optimization Finished\")\n",
    "    training_cost = sess.run(cost,feed_dict = {X:train_X,Y:train_Y})\n",
    "    print(\"Training cost = \", training_cost, \"W =\", sess.run(W),\"b=\",sess.run(b),'\\n')\n",
    "    plt.plot(train_X,train_Y,'ro',label= 'Original data')\n",
    "    plt.plot(train_X,sess.run(W)*train_X + sess.run(b), label = \"Fitted line\")\n",
    "    plt.legend()\n",
    "    plt.show()"
   ]
  },
  {
   "cell_type": "code",
   "execution_count": null,
   "metadata": {
    "collapsed": true
   },
   "outputs": [],
   "source": [
    "{}"
   ]
  }
 ],
 "metadata": {
  "kernelspec": {
   "display_name": "Python 3",
   "language": "python",
   "name": "python3"
  },
  "language_info": {
   "codemirror_mode": {
    "name": "ipython",
    "version": 3
   },
   "file_extension": ".py",
   "mimetype": "text/x-python",
   "name": "python",
   "nbconvert_exporter": "python",
   "pygments_lexer": "ipython3",
   "version": "3.6.3"
  }
 },
 "nbformat": 4,
 "nbformat_minor": 2
}
